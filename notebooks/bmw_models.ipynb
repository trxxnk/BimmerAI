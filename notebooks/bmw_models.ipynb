{
 "cells": [
  {
   "cell_type": "code",
   "execution_count": 1,
   "id": "b6ccdeda",
   "metadata": {},
   "outputs": [],
   "source": [
    "import numpy as np\n",
    "import pandas as pd\n",
    "import seaborn as sns\n",
    "\n",
    "from sklearn.linear_model import LinearRegression\n",
    "from sklearn.tree import DecisionTreeRegressor\n",
    "from sklearn.preprocessing import PolynomialFeatures\n",
    "from sklearn.model_selection import train_test_split, cross_val_score"
   ]
  },
  {
   "cell_type": "markdown",
   "id": "061f86dd",
   "metadata": {},
   "source": [
    "# EDA"
   ]
  },
  {
   "cell_type": "code",
   "execution_count": 2,
   "id": "bb135bfe",
   "metadata": {},
   "outputs": [
    {
     "data": {
      "text/html": [
       "<div>\n",
       "<style scoped>\n",
       "    .dataframe tbody tr th:only-of-type {\n",
       "        vertical-align: middle;\n",
       "    }\n",
       "\n",
       "    .dataframe tbody tr th {\n",
       "        vertical-align: top;\n",
       "    }\n",
       "\n",
       "    .dataframe thead th {\n",
       "        text-align: right;\n",
       "    }\n",
       "</style>\n",
       "<table border=\"1\" class=\"dataframe\">\n",
       "  <thead>\n",
       "    <tr style=\"text-align: right;\">\n",
       "      <th></th>\n",
       "      <th>Серия</th>\n",
       "      <th>Поколение</th>\n",
       "      <th>Год</th>\n",
       "      <th>Рестайлинг</th>\n",
       "      <th>Пробег</th>\n",
       "      <th>Коробка</th>\n",
       "      <th>Объем</th>\n",
       "      <th>Цена</th>\n",
       "      <th>Кузов_внедорожник 5 дв.</th>\n",
       "      <th>Кузов_кабриолет</th>\n",
       "      <th>Кузов_купе</th>\n",
       "      <th>Кузов_лифтбек</th>\n",
       "      <th>Кузов_минивэн</th>\n",
       "      <th>Кузов_седан</th>\n",
       "      <th>Кузов_универсал</th>\n",
       "      <th>Кузов_хэтчбек 3 дв.</th>\n",
       "      <th>Кузов_хэтчбек 5 дв.</th>\n",
       "      <th>Топливо_бензин</th>\n",
       "      <th>Топливо_дизель</th>\n",
       "    </tr>\n",
       "  </thead>\n",
       "  <tbody>\n",
       "    <tr>\n",
       "      <th>0</th>\n",
       "      <td>17140</td>\n",
       "      <td>22517</td>\n",
       "      <td>2019</td>\n",
       "      <td>0</td>\n",
       "      <td>129000</td>\n",
       "      <td>1</td>\n",
       "      <td>1.5</td>\n",
       "      <td>16999</td>\n",
       "      <td>0</td>\n",
       "      <td>0</td>\n",
       "      <td>0</td>\n",
       "      <td>0</td>\n",
       "      <td>0</td>\n",
       "      <td>0</td>\n",
       "      <td>0</td>\n",
       "      <td>0</td>\n",
       "      <td>1</td>\n",
       "      <td>0</td>\n",
       "      <td>1</td>\n",
       "    </tr>\n",
       "    <tr>\n",
       "      <th>1</th>\n",
       "      <td>20542</td>\n",
       "      <td>40126</td>\n",
       "      <td>2019</td>\n",
       "      <td>1</td>\n",
       "      <td>35000</td>\n",
       "      <td>2</td>\n",
       "      <td>3.0</td>\n",
       "      <td>83777</td>\n",
       "      <td>0</td>\n",
       "      <td>0</td>\n",
       "      <td>0</td>\n",
       "      <td>0</td>\n",
       "      <td>0</td>\n",
       "      <td>1</td>\n",
       "      <td>0</td>\n",
       "      <td>0</td>\n",
       "      <td>0</td>\n",
       "      <td>0</td>\n",
       "      <td>1</td>\n",
       "    </tr>\n",
       "    <tr>\n",
       "      <th>2</th>\n",
       "      <td>17574</td>\n",
       "      <td>7029</td>\n",
       "      <td>1999</td>\n",
       "      <td>0</td>\n",
       "      <td>400000</td>\n",
       "      <td>0</td>\n",
       "      <td>2.5</td>\n",
       "      <td>3399</td>\n",
       "      <td>0</td>\n",
       "      <td>0</td>\n",
       "      <td>0</td>\n",
       "      <td>0</td>\n",
       "      <td>0</td>\n",
       "      <td>1</td>\n",
       "      <td>0</td>\n",
       "      <td>0</td>\n",
       "      <td>0</td>\n",
       "      <td>0</td>\n",
       "      <td>1</td>\n",
       "    </tr>\n",
       "    <tr>\n",
       "      <th>3</th>\n",
       "      <td>17681</td>\n",
       "      <td>13564</td>\n",
       "      <td>2005</td>\n",
       "      <td>0</td>\n",
       "      <td>370000</td>\n",
       "      <td>2</td>\n",
       "      <td>2.0</td>\n",
       "      <td>7200</td>\n",
       "      <td>0</td>\n",
       "      <td>0</td>\n",
       "      <td>0</td>\n",
       "      <td>0</td>\n",
       "      <td>0</td>\n",
       "      <td>0</td>\n",
       "      <td>0</td>\n",
       "      <td>0</td>\n",
       "      <td>1</td>\n",
       "      <td>1</td>\n",
       "      <td>0</td>\n",
       "    </tr>\n",
       "    <tr>\n",
       "      <th>4</th>\n",
       "      <td>39427</td>\n",
       "      <td>21047</td>\n",
       "      <td>2012</td>\n",
       "      <td>1</td>\n",
       "      <td>149000</td>\n",
       "      <td>2</td>\n",
       "      <td>3.0</td>\n",
       "      <td>23450</td>\n",
       "      <td>1</td>\n",
       "      <td>0</td>\n",
       "      <td>0</td>\n",
       "      <td>0</td>\n",
       "      <td>0</td>\n",
       "      <td>0</td>\n",
       "      <td>0</td>\n",
       "      <td>0</td>\n",
       "      <td>0</td>\n",
       "      <td>1</td>\n",
       "      <td>0</td>\n",
       "    </tr>\n",
       "    <tr>\n",
       "      <th>...</th>\n",
       "      <td>...</td>\n",
       "      <td>...</td>\n",
       "      <td>...</td>\n",
       "      <td>...</td>\n",
       "      <td>...</td>\n",
       "      <td>...</td>\n",
       "      <td>...</td>\n",
       "      <td>...</td>\n",
       "      <td>...</td>\n",
       "      <td>...</td>\n",
       "      <td>...</td>\n",
       "      <td>...</td>\n",
       "      <td>...</td>\n",
       "      <td>...</td>\n",
       "      <td>...</td>\n",
       "      <td>...</td>\n",
       "      <td>...</td>\n",
       "      <td>...</td>\n",
       "      <td>...</td>\n",
       "    </tr>\n",
       "    <tr>\n",
       "      <th>2608</th>\n",
       "      <td>15881</td>\n",
       "      <td>36993</td>\n",
       "      <td>2022</td>\n",
       "      <td>1</td>\n",
       "      <td>8540</td>\n",
       "      <td>2</td>\n",
       "      <td>3.0</td>\n",
       "      <td>59990</td>\n",
       "      <td>0</td>\n",
       "      <td>0</td>\n",
       "      <td>0</td>\n",
       "      <td>0</td>\n",
       "      <td>0</td>\n",
       "      <td>1</td>\n",
       "      <td>0</td>\n",
       "      <td>0</td>\n",
       "      <td>0</td>\n",
       "      <td>1</td>\n",
       "      <td>0</td>\n",
       "    </tr>\n",
       "    <tr>\n",
       "      <th>2609</th>\n",
       "      <td>38714</td>\n",
       "      <td>21047</td>\n",
       "      <td>2011</td>\n",
       "      <td>0</td>\n",
       "      <td>277000</td>\n",
       "      <td>2</td>\n",
       "      <td>3.0</td>\n",
       "      <td>22290</td>\n",
       "      <td>1</td>\n",
       "      <td>0</td>\n",
       "      <td>0</td>\n",
       "      <td>0</td>\n",
       "      <td>0</td>\n",
       "      <td>0</td>\n",
       "      <td>0</td>\n",
       "      <td>0</td>\n",
       "      <td>0</td>\n",
       "      <td>0</td>\n",
       "      <td>1</td>\n",
       "    </tr>\n",
       "    <tr>\n",
       "      <th>2610</th>\n",
       "      <td>17574</td>\n",
       "      <td>20410</td>\n",
       "      <td>2012</td>\n",
       "      <td>0</td>\n",
       "      <td>256000</td>\n",
       "      <td>2</td>\n",
       "      <td>3.0</td>\n",
       "      <td>23500</td>\n",
       "      <td>0</td>\n",
       "      <td>0</td>\n",
       "      <td>0</td>\n",
       "      <td>0</td>\n",
       "      <td>0</td>\n",
       "      <td>1</td>\n",
       "      <td>0</td>\n",
       "      <td>0</td>\n",
       "      <td>0</td>\n",
       "      <td>0</td>\n",
       "      <td>1</td>\n",
       "    </tr>\n",
       "    <tr>\n",
       "      <th>2611</th>\n",
       "      <td>38991</td>\n",
       "      <td>26413</td>\n",
       "      <td>2013</td>\n",
       "      <td>0</td>\n",
       "      <td>268500</td>\n",
       "      <td>2</td>\n",
       "      <td>2.0</td>\n",
       "      <td>21500</td>\n",
       "      <td>0</td>\n",
       "      <td>0</td>\n",
       "      <td>1</td>\n",
       "      <td>0</td>\n",
       "      <td>0</td>\n",
       "      <td>0</td>\n",
       "      <td>0</td>\n",
       "      <td>0</td>\n",
       "      <td>0</td>\n",
       "      <td>1</td>\n",
       "      <td>0</td>\n",
       "    </tr>\n",
       "    <tr>\n",
       "      <th>2612</th>\n",
       "      <td>21440</td>\n",
       "      <td>19731</td>\n",
       "      <td>2017</td>\n",
       "      <td>0</td>\n",
       "      <td>200000</td>\n",
       "      <td>0</td>\n",
       "      <td>1.5</td>\n",
       "      <td>13000</td>\n",
       "      <td>0</td>\n",
       "      <td>0</td>\n",
       "      <td>0</td>\n",
       "      <td>0</td>\n",
       "      <td>1</td>\n",
       "      <td>0</td>\n",
       "      <td>0</td>\n",
       "      <td>0</td>\n",
       "      <td>0</td>\n",
       "      <td>0</td>\n",
       "      <td>1</td>\n",
       "    </tr>\n",
       "  </tbody>\n",
       "</table>\n",
       "<p>2613 rows × 19 columns</p>\n",
       "</div>"
      ],
      "text/plain": [
       "      Серия  Поколение   Год  Рестайлинг  Пробег  Коробка  Объем   Цена  \\\n",
       "0     17140      22517  2019           0  129000        1    1.5  16999   \n",
       "1     20542      40126  2019           1   35000        2    3.0  83777   \n",
       "2     17574       7029  1999           0  400000        0    2.5   3399   \n",
       "3     17681      13564  2005           0  370000        2    2.0   7200   \n",
       "4     39427      21047  2012           1  149000        2    3.0  23450   \n",
       "...     ...        ...   ...         ...     ...      ...    ...    ...   \n",
       "2608  15881      36993  2022           1    8540        2    3.0  59990   \n",
       "2609  38714      21047  2011           0  277000        2    3.0  22290   \n",
       "2610  17574      20410  2012           0  256000        2    3.0  23500   \n",
       "2611  38991      26413  2013           0  268500        2    2.0  21500   \n",
       "2612  21440      19731  2017           0  200000        0    1.5  13000   \n",
       "\n",
       "      Кузов_внедорожник 5 дв.  Кузов_кабриолет  Кузов_купе  Кузов_лифтбек  \\\n",
       "0                           0                0           0              0   \n",
       "1                           0                0           0              0   \n",
       "2                           0                0           0              0   \n",
       "3                           0                0           0              0   \n",
       "4                           1                0           0              0   \n",
       "...                       ...              ...         ...            ...   \n",
       "2608                        0                0           0              0   \n",
       "2609                        1                0           0              0   \n",
       "2610                        0                0           0              0   \n",
       "2611                        0                0           1              0   \n",
       "2612                        0                0           0              0   \n",
       "\n",
       "      Кузов_минивэн  Кузов_седан  Кузов_универсал  Кузов_хэтчбек 3 дв.  \\\n",
       "0                 0            0                0                    0   \n",
       "1                 0            1                0                    0   \n",
       "2                 0            1                0                    0   \n",
       "3                 0            0                0                    0   \n",
       "4                 0            0                0                    0   \n",
       "...             ...          ...              ...                  ...   \n",
       "2608              0            1                0                    0   \n",
       "2609              0            0                0                    0   \n",
       "2610              0            1                0                    0   \n",
       "2611              0            0                0                    0   \n",
       "2612              1            0                0                    0   \n",
       "\n",
       "      Кузов_хэтчбек 5 дв.  Топливо_бензин  Топливо_дизель  \n",
       "0                       1               0               1  \n",
       "1                       0               0               1  \n",
       "2                       0               0               1  \n",
       "3                       1               1               0  \n",
       "4                       0               1               0  \n",
       "...                   ...             ...             ...  \n",
       "2608                    0               1               0  \n",
       "2609                    0               0               1  \n",
       "2610                    0               0               1  \n",
       "2611                    0               1               0  \n",
       "2612                    0               0               1  \n",
       "\n",
       "[2613 rows x 19 columns]"
      ]
     },
     "execution_count": 2,
     "metadata": {},
     "output_type": "execute_result"
    }
   ],
   "source": [
    "bmw_data = pd.read_csv(\"../data/bmw_encoded.csv\")\n",
    "bmw_data"
   ]
  },
  {
   "cell_type": "code",
   "execution_count": 3,
   "id": "4081c95a",
   "metadata": {},
   "outputs": [
    {
     "name": "stdout",
     "output_type": "stream",
     "text": [
      "<class 'pandas.core.frame.DataFrame'>\n",
      "RangeIndex: 2613 entries, 0 to 2612\n",
      "Data columns (total 19 columns):\n",
      " #   Column                   Non-Null Count  Dtype  \n",
      "---  ------                   --------------  -----  \n",
      " 0   Серия                    2613 non-null   int64  \n",
      " 1   Поколение                2613 non-null   int64  \n",
      " 2   Год                      2613 non-null   int64  \n",
      " 3   Рестайлинг               2613 non-null   int64  \n",
      " 4   Пробег                   2613 non-null   int64  \n",
      " 5   Коробка                  2613 non-null   int64  \n",
      " 6   Объем                    2613 non-null   float64\n",
      " 7   Цена                     2613 non-null   int64  \n",
      " 8   Кузов_внедорожник 5 дв.  2613 non-null   int64  \n",
      " 9   Кузов_кабриолет          2613 non-null   int64  \n",
      " 10  Кузов_купе               2613 non-null   int64  \n",
      " 11  Кузов_лифтбек            2613 non-null   int64  \n",
      " 12  Кузов_минивэн            2613 non-null   int64  \n",
      " 13  Кузов_седан              2613 non-null   int64  \n",
      " 14  Кузов_универсал          2613 non-null   int64  \n",
      " 15  Кузов_хэтчбек 3 дв.      2613 non-null   int64  \n",
      " 16  Кузов_хэтчбек 5 дв.      2613 non-null   int64  \n",
      " 17  Топливо_бензин           2613 non-null   int64  \n",
      " 18  Топливо_дизель           2613 non-null   int64  \n",
      "dtypes: float64(1), int64(18)\n",
      "memory usage: 388.0 KB\n"
     ]
    }
   ],
   "source": [
    "bmw_data.info()"
   ]
  },
  {
   "cell_type": "code",
   "execution_count": 4,
   "id": "a205ac7f",
   "metadata": {},
   "outputs": [
    {
     "data": {
      "text/html": [
       "<div>\n",
       "<style scoped>\n",
       "    .dataframe tbody tr th:only-of-type {\n",
       "        vertical-align: middle;\n",
       "    }\n",
       "\n",
       "    .dataframe tbody tr th {\n",
       "        vertical-align: top;\n",
       "    }\n",
       "\n",
       "    .dataframe thead th {\n",
       "        text-align: right;\n",
       "    }\n",
       "</style>\n",
       "<table border=\"1\" class=\"dataframe\">\n",
       "  <thead>\n",
       "    <tr style=\"text-align: right;\">\n",
       "      <th></th>\n",
       "      <th>Серия</th>\n",
       "      <th>Поколение</th>\n",
       "      <th>Объем</th>\n",
       "      <th>Год</th>\n",
       "    </tr>\n",
       "  </thead>\n",
       "  <tbody>\n",
       "    <tr>\n",
       "      <th>Серия</th>\n",
       "      <td>1.000000</td>\n",
       "      <td>0.639916</td>\n",
       "      <td>0.297926</td>\n",
       "      <td>0.372197</td>\n",
       "    </tr>\n",
       "    <tr>\n",
       "      <th>Поколение</th>\n",
       "      <td>0.639916</td>\n",
       "      <td>1.000000</td>\n",
       "      <td>0.138139</td>\n",
       "      <td>0.769333</td>\n",
       "    </tr>\n",
       "    <tr>\n",
       "      <th>Объем</th>\n",
       "      <td>0.297926</td>\n",
       "      <td>0.138139</td>\n",
       "      <td>1.000000</td>\n",
       "      <td>-0.153404</td>\n",
       "    </tr>\n",
       "    <tr>\n",
       "      <th>Год</th>\n",
       "      <td>0.372197</td>\n",
       "      <td>0.769333</td>\n",
       "      <td>-0.153404</td>\n",
       "      <td>1.000000</td>\n",
       "    </tr>\n",
       "  </tbody>\n",
       "</table>\n",
       "</div>"
      ],
      "text/plain": [
       "              Серия  Поколение     Объем       Год\n",
       "Серия      1.000000   0.639916  0.297926  0.372197\n",
       "Поколение  0.639916   1.000000  0.138139  0.769333\n",
       "Объем      0.297926   0.138139  1.000000 -0.153404\n",
       "Год        0.372197   0.769333 -0.153404  1.000000"
      ]
     },
     "execution_count": 4,
     "metadata": {},
     "output_type": "execute_result"
    },
    {
     "data": {
      "image/png": "[encoded data removed]",
      "text/plain": [
       "<Figure size 640x480 with 2 Axes>"
      ]
     },
     "metadata": {},
     "output_type": "display_data"
    }
   ],
   "source": [
    "corr_bmw = bmw_data[[\"Серия\", \"Поколение\", \"Объем\", \"Год\"]].corr()\n",
    "sns.heatmap(corr_bmw, cmap=\"hot\")\n",
    "corr_bmw"
   ]
  },
  {
   "cell_type": "markdown",
   "id": "bb141bd7",
   "metadata": {},
   "source": [
    "# Модели"
   ]
  },
  {
   "cell_type": "markdown",
   "id": "50b9d1ce",
   "metadata": {},
   "source": [
    "## Линейная регрессия"
   ]
  },
  {
   "cell_type": "code",
   "execution_count": 5,
   "id": "9ebf06d8",
   "metadata": {},
   "outputs": [],
   "source": [
    "X = bmw_data.drop([\"Цена\"], axis=1).values\n",
    "y = bmw_data[\"Цена\"].values"
   ]
  },
  {
   "cell_type": "code",
   "execution_count": 6,
   "id": "78425edf",
   "metadata": {},
   "outputs": [],
   "source": [
    "X_train, X_test, y_train, y_test = train_test_split(X, y, test_size=0.2, random_state=41)"
   ]
  },
  {
   "cell_type": "code",
   "execution_count": 7,
   "id": "c341d44e",
   "metadata": {},
   "outputs": [
    {
     "data": {
      "text/plain": [
       "0.856427806897845"
      ]
     },
     "execution_count": 7,
     "metadata": {},
     "output_type": "execute_result"
    }
   ],
   "source": [
    "model = LinearRegression()\n",
    "model.fit(X_train, y_train)\n",
    "model.score(X_test, y_test)"
   ]
  },
  {
   "cell_type": "code",
   "execution_count": 8,
   "id": "556602e5",
   "metadata": {},
   "outputs": [
    {
     "data": {
      "text/plain": [
       "0.9388561451692249"
      ]
     },
     "execution_count": 8,
     "metadata": {},
     "output_type": "execute_result"
    }
   ],
   "source": [
    "poly_ft = PolynomialFeatures(degree=2)\n",
    "X_poly = poly_ft.fit_transform(X)\n",
    "X_train, X_test, y_train, y_test = train_test_split(X_poly, y, test_size=0.2, random_state=41)\n",
    "model = LinearRegression()\n",
    "model.fit(X_train, y_train)\n",
    "model.score(X_test, y_test)"
   ]
  },
  {
   "cell_type": "code",
   "execution_count": 9,
   "id": "0105ef00",
   "metadata": {},
   "outputs": [
    {
     "data": {
      "text/plain": [
       "array([0.85541407, 0.88647776, 0.87270761, 0.86596928, 0.90547152])"
      ]
     },
     "execution_count": 9,
     "metadata": {},
     "output_type": "execute_result"
    }
   ],
   "source": [
    "scores = cross_val_score(model, X, y, cv=5)\n",
    "scores"
   ]
  },
  {
   "cell_type": "code",
   "execution_count": 10,
   "id": "9bb297c1",
   "metadata": {},
   "outputs": [
    {
     "data": {
      "text/plain": [
       "array([ 1505.23030533,  -661.16493913,  1758.55239168,  1873.30619402,\n",
       "       -1463.77407519,  2294.9769783 ,   809.92097135,   583.25801845,\n",
       "        2631.76986328, -2103.06286333,  7194.54633623, -4545.43105093,\n",
       "        7165.66564792, -3615.77677601,   272.12996986, -1164.40191711,\n",
       "        1930.82039641,  2533.69151743,  2498.63620903,  2597.59213793])"
      ]
     },
     "execution_count": 10,
     "metadata": {},
     "output_type": "execute_result"
    }
   ],
   "source": [
    "model.predict(X_test[100:120]) - y_test[100:120]"
   ]
  },
  {
   "cell_type": "markdown",
   "id": "b548e937",
   "metadata": {},
   "source": [
    "## Дерево решений"
   ]
  },
  {
   "cell_type": "code",
   "execution_count": 11,
   "id": "3328c3b2",
   "metadata": {},
   "outputs": [],
   "source": [
    "X = bmw_data.drop([\"Цена\"], axis=1).values\n",
    "y = bmw_data[\"Цена\"].values"
   ]
  },
  {
   "cell_type": "code",
   "execution_count": 12,
   "id": "b71bd3d7",
   "metadata": {},
   "outputs": [],
   "source": [
    "X_train, X_test, y_train, y_test = train_test_split(X, y, test_size=0.2, random_state=41)"
   ]
  },
  {
   "cell_type": "code",
   "execution_count": 13,
   "id": "7953d774",
   "metadata": {},
   "outputs": [
    {
     "data": {
      "text/plain": [
       "0.908459588965837"
      ]
     },
     "execution_count": 13,
     "metadata": {},
     "output_type": "execute_result"
    }
   ],
   "source": [
    "model = DecisionTreeRegressor()\n",
    "model.fit(X_train, y_train)\n",
    "model.score(X_test, y_test)"
   ]
  },
  {
   "cell_type": "code",
   "execution_count": 14,
   "id": "a180b45f",
   "metadata": {},
   "outputs": [
    {
     "data": {
      "text/plain": [
       "0.9130514983953031"
      ]
     },
     "execution_count": 14,
     "metadata": {},
     "output_type": "execute_result"
    }
   ],
   "source": [
    "poly_ft = PolynomialFeatures(degree=2)\n",
    "X_poly = poly_ft.fit_transform(X)\n",
    "X_train, X_test, y_train, y_test = train_test_split(X_poly, y, test_size=0.2, random_state=41)\n",
    "model = DecisionTreeRegressor()\n",
    "model.fit(X_train, y_train)\n",
    "model.score(X_test, y_test)"
   ]
  },
  {
   "cell_type": "code",
   "execution_count": 15,
   "id": "da8d8a18",
   "metadata": {},
   "outputs": [
    {
     "data": {
      "text/plain": [
       "array([0.93340685, 0.87794043, 0.90427314, 0.91356664, 0.90798378])"
      ]
     },
     "execution_count": 15,
     "metadata": {},
     "output_type": "execute_result"
    }
   ],
   "source": [
    "scores = cross_val_score(model, X, y, cv=5)\n",
    "scores"
   ]
  },
  {
   "cell_type": "code",
   "execution_count": 16,
   "id": "cf1c1cdd",
   "metadata": {},
   "outputs": [
    {
     "data": {
      "text/plain": [
       "array([ -8900.,  -2300.,  -3960.,    800.,    500.,  12300.,    500.,\n",
       "         6630.,   3500.,  -1600.,   6300.,  -5200., -12499., -10600.,\n",
       "         4800.,    800.,   4001.,   -250.,  -3200.,   4723.])"
      ]
     },
     "execution_count": 16,
     "metadata": {},
     "output_type": "execute_result"
    }
   ],
   "source": [
    "model.predict(X_test[100:120]) - y_test[100:120]"
   ]
  },
  {
   "cell_type": "code",
   "execution_count": 17,
   "id": "cddd0da8",
   "metadata": {},
   "outputs": [
    {
     "data": {
      "text/plain": [
       "array([[39900., 48800.],\n",
       "       [ 3500.,  5800.],\n",
       "       [39990., 43950.],\n",
       "       [ 5000.,  4200.],\n",
       "       [ 6500.,  6000.],\n",
       "       [34000., 21700.],\n",
       "       [ 5000.,  4500.],\n",
       "       [25600., 18970.],\n",
       "       [16000., 12500.],\n",
       "       [11300., 12900.],\n",
       "       [59300., 53000.],\n",
       "       [32800., 38000.],\n",
       "       [60500., 72999.],\n",
       "       [38900., 49500.],\n",
       "       [19800., 15000.],\n",
       "       [24300., 23500.],\n",
       "       [44000., 39999.],\n",
       "       [18750., 19000.],\n",
       "       [ 6800., 10000.],\n",
       "       [48500., 43777.]])"
      ]
     },
     "execution_count": 17,
     "metadata": {},
     "output_type": "execute_result"
    }
   ],
   "source": [
    "np.array((model.predict(X_test[100:120]), y_test[100:120])).T"
   ]
  },
  {
   "cell_type": "code",
   "execution_count": null,
   "id": "b7289f81",
   "metadata": {},
   "outputs": [],
   "source": []
  }
 ],
 "metadata": {
  "kernelspec": {
   "display_name": ".bimmerai-venv",
   "language": "python",
   "name": "python3"
  },
  "language_info": {
   "codemirror_mode": {
    "name": "ipython",
    "version": 3
   },
   "file_extension": ".py",
   "mimetype": "text/x-python",
   "name": "python",
   "nbconvert_exporter": "python",
   "pygments_lexer": "ipython3",
   "version": "3.12.4"
  }
 },
 "nbformat": 4,
 "nbformat_minor": 5
}
