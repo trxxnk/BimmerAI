{
 "cells": [
  {
   "cell_type": "code",
   "execution_count": 22,
   "id": "b1004bac",
   "metadata": {},
   "outputs": [],
   "source": [
    "import re\n",
    "import pandas as pd\n",
    "import matplotlib.pyplot as plt"
   ]
  },
  {
   "cell_type": "code",
   "execution_count": 2,
   "id": "f56c1520",
   "metadata": {},
   "outputs": [
    {
     "data": {
      "text/html": [
       "<div>\n",
       "<style scoped>\n",
       "    .dataframe tbody tr th:only-of-type {\n",
       "        vertical-align: middle;\n",
       "    }\n",
       "\n",
       "    .dataframe tbody tr th {\n",
       "        vertical-align: top;\n",
       "    }\n",
       "\n",
       "    .dataframe thead th {\n",
       "        text-align: right;\n",
       "    }\n",
       "</style>\n",
       "<table border=\"1\" class=\"dataframe\">\n",
       "  <thead>\n",
       "    <tr style=\"text-align: right;\">\n",
       "      <th></th>\n",
       "      <th>Серия</th>\n",
       "      <th>Поколение</th>\n",
       "      <th>Кузов</th>\n",
       "      <th>Год</th>\n",
       "      <th>Рестайлинг</th>\n",
       "      <th>Пробег</th>\n",
       "      <th>Коробка</th>\n",
       "      <th>Объем</th>\n",
       "      <th>Топливо</th>\n",
       "      <th>Цена</th>\n",
       "    </tr>\n",
       "  </thead>\n",
       "  <tbody>\n",
       "    <tr>\n",
       "      <th>0</th>\n",
       "      <td>1 серия</td>\n",
       "      <td>F40</td>\n",
       "      <td>хэтчбек 5 дв.</td>\n",
       "      <td>2019</td>\n",
       "      <td>0</td>\n",
       "      <td>129000</td>\n",
       "      <td>робот</td>\n",
       "      <td>1,5 л</td>\n",
       "      <td>дизель</td>\n",
       "      <td>16999</td>\n",
       "    </tr>\n",
       "    <tr>\n",
       "      <th>1</th>\n",
       "      <td>7 серия</td>\n",
       "      <td>G12</td>\n",
       "      <td>седан</td>\n",
       "      <td>2019</td>\n",
       "      <td>1</td>\n",
       "      <td>35000</td>\n",
       "      <td>автомат</td>\n",
       "      <td>3,0 л</td>\n",
       "      <td>дизель</td>\n",
       "      <td>83777</td>\n",
       "    </tr>\n",
       "    <tr>\n",
       "      <th>2</th>\n",
       "      <td>5 серия</td>\n",
       "      <td>E39</td>\n",
       "      <td>седан</td>\n",
       "      <td>1999</td>\n",
       "      <td>0</td>\n",
       "      <td>400000</td>\n",
       "      <td>механика</td>\n",
       "      <td>2,5 л</td>\n",
       "      <td>дизель</td>\n",
       "      <td>3399</td>\n",
       "    </tr>\n",
       "    <tr>\n",
       "      <th>3</th>\n",
       "      <td>1 серия</td>\n",
       "      <td>E81, E82, E88, E87</td>\n",
       "      <td>хэтчбек 5 дв.</td>\n",
       "      <td>2005</td>\n",
       "      <td>0</td>\n",
       "      <td>370000</td>\n",
       "      <td>автомат</td>\n",
       "      <td>2,0 л</td>\n",
       "      <td>бензин</td>\n",
       "      <td>7200</td>\n",
       "    </tr>\n",
       "    <tr>\n",
       "      <th>4</th>\n",
       "      <td>X6</td>\n",
       "      <td>E71</td>\n",
       "      <td>внедорожник 5 дв.</td>\n",
       "      <td>2012</td>\n",
       "      <td>1</td>\n",
       "      <td>149000</td>\n",
       "      <td>автомат</td>\n",
       "      <td>3,0 л</td>\n",
       "      <td>бензин</td>\n",
       "      <td>23450</td>\n",
       "    </tr>\n",
       "    <tr>\n",
       "      <th>...</th>\n",
       "      <td>...</td>\n",
       "      <td>...</td>\n",
       "      <td>...</td>\n",
       "      <td>...</td>\n",
       "      <td>...</td>\n",
       "      <td>...</td>\n",
       "      <td>...</td>\n",
       "      <td>...</td>\n",
       "      <td>...</td>\n",
       "      <td>...</td>\n",
       "    </tr>\n",
       "    <tr>\n",
       "      <th>2788</th>\n",
       "      <td>X6</td>\n",
       "      <td>E71</td>\n",
       "      <td>внедорожник 5 дв.</td>\n",
       "      <td>2011</td>\n",
       "      <td>0</td>\n",
       "      <td>277000</td>\n",
       "      <td>автомат</td>\n",
       "      <td>3,0 л</td>\n",
       "      <td>дизель</td>\n",
       "      <td>22290</td>\n",
       "    </tr>\n",
       "    <tr>\n",
       "      <th>2789</th>\n",
       "      <td>5 серия</td>\n",
       "      <td>F10, F11</td>\n",
       "      <td>седан</td>\n",
       "      <td>2012</td>\n",
       "      <td>0</td>\n",
       "      <td>256000</td>\n",
       "      <td>автомат</td>\n",
       "      <td>3,0 л</td>\n",
       "      <td>дизель</td>\n",
       "      <td>23500</td>\n",
       "    </tr>\n",
       "    <tr>\n",
       "      <th>2790</th>\n",
       "      <td>4 серия</td>\n",
       "      <td>F32, F33, F36</td>\n",
       "      <td>купе</td>\n",
       "      <td>2013</td>\n",
       "      <td>0</td>\n",
       "      <td>268500</td>\n",
       "      <td>автомат</td>\n",
       "      <td>2,0 л</td>\n",
       "      <td>бензин</td>\n",
       "      <td>21500</td>\n",
       "    </tr>\n",
       "    <tr>\n",
       "      <th>2791</th>\n",
       "      <td>2 серия</td>\n",
       "      <td>F45</td>\n",
       "      <td>минивэн</td>\n",
       "      <td>2017</td>\n",
       "      <td>0</td>\n",
       "      <td>200000</td>\n",
       "      <td>механика</td>\n",
       "      <td>1,5 л</td>\n",
       "      <td>дизель</td>\n",
       "      <td>13000</td>\n",
       "    </tr>\n",
       "    <tr>\n",
       "      <th>2792</th>\n",
       "      <td>7 серия</td>\n",
       "      <td>E65</td>\n",
       "      <td>седан</td>\n",
       "      <td>2002</td>\n",
       "      <td>0</td>\n",
       "      <td>280000</td>\n",
       "      <td>автомат</td>\n",
       "      <td>3,6 л</td>\n",
       "      <td>бензин</td>\n",
       "      <td>6300</td>\n",
       "    </tr>\n",
       "  </tbody>\n",
       "</table>\n",
       "<p>2793 rows × 10 columns</p>\n",
       "</div>"
      ],
      "text/plain": [
       "        Серия           Поколение              Кузов   Год  Рестайлинг  \\\n",
       "0     1 серия                 F40      хэтчбек 5 дв.  2019           0   \n",
       "1     7 серия                 G12              седан  2019           1   \n",
       "2     5 серия                 E39              седан  1999           0   \n",
       "3     1 серия  E81, E82, E88, E87      хэтчбек 5 дв.  2005           0   \n",
       "4          X6                 E71  внедорожник 5 дв.  2012           1   \n",
       "...       ...                 ...                ...   ...         ...   \n",
       "2788       X6                 E71  внедорожник 5 дв.  2011           0   \n",
       "2789  5 серия            F10, F11              седан  2012           0   \n",
       "2790  4 серия       F32, F33, F36               купе  2013           0   \n",
       "2791  2 серия                 F45            минивэн  2017           0   \n",
       "2792  7 серия                 E65              седан  2002           0   \n",
       "\n",
       "      Пробег   Коробка  Объем Топливо   Цена  \n",
       "0     129000     робот  1,5 л  дизель  16999  \n",
       "1      35000   автомат  3,0 л  дизель  83777  \n",
       "2     400000  механика  2,5 л  дизель   3399  \n",
       "3     370000   автомат  2,0 л  бензин   7200  \n",
       "4     149000   автомат  3,0 л  бензин  23450  \n",
       "...      ...       ...    ...     ...    ...  \n",
       "2788  277000   автомат  3,0 л  дизель  22290  \n",
       "2789  256000   автомат  3,0 л  дизель  23500  \n",
       "2790  268500   автомат  2,0 л  бензин  21500  \n",
       "2791  200000  механика  1,5 л  дизель  13000  \n",
       "2792  280000   автомат  3,6 л  бензин   6300  \n",
       "\n",
       "[2793 rows x 10 columns]"
      ]
     },
     "execution_count": 2,
     "metadata": {},
     "output_type": "execute_result"
    }
   ],
   "source": [
    "data = pd.read_csv(\"../data/bmw_preprocessed.csv\")\n",
    "data"
   ]
  },
  {
   "cell_type": "code",
   "execution_count": null,
   "id": "2c03c6bc",
   "metadata": {},
   "outputs": [
    {
     "data": {
      "text/plain": [
       "Топливо\n",
       "бензин    1450\n",
       "дизель    1316\n",
       "Name: count, dtype: int64"
      ]
     },
     "execution_count": 6,
     "metadata": {},
     "output_type": "execute_result"
    }
   ],
   "source": [
    "# Убираем все объявления с приколхоженным пропаном-бутаном к машине (27 шт.)\n",
    "data = data[data['Топливо'] != 'бензин (пропан-бутан)']\n",
    "data['Топливо'].value_counts()"
   ]
  },
  {
   "cell_type": "code",
   "execution_count": null,
   "id": "2eb4a77d",
   "metadata": {},
   "outputs": [
    {
     "data": {
      "text/plain": [
       "Кузов\n",
       "седан                1161\n",
       "внедорожник 5 дв.     879\n",
       "универсал             289\n",
       "лифтбек               130\n",
       "минивэн                91\n",
       "купе                   79\n",
       "хэтчбек 5 дв.          71\n",
       "кабриолет              39\n",
       "хэтчбек 3 дв.          24\n",
       "Name: count, dtype: int64"
      ]
     },
     "execution_count": 8,
     "metadata": {},
     "output_type": "execute_result"
    }
   ],
   "source": [
    "# Убираем автомобиили с кузовом \"родстер\" (3 шт.)\n",
    "data = data[data['Кузов'] != 'родстер']\n",
    "data['Кузов'].value_counts()"
   ]
  },
  {
   "cell_type": "code",
   "execution_count": 9,
   "id": "f7b4d2be",
   "metadata": {},
   "outputs": [
    {
     "data": {
      "text/plain": [
       "(60912.6, 120811.2]              440\n",
       "(120811.2, 180709.8]             412\n",
       "(180709.8, 240608.4]             379\n",
       "(240608.4, 300507.0]             350\n",
       "(415.01300000000003, 60912.6]    328\n",
       "(300507.0, 360405.6]             326\n",
       "(360405.6, 420304.2]             244\n",
       "(420304.2, 480202.8]             134\n",
       "(480202.8, 540101.4]             100\n",
       "(540101.4, 600000.0]              32\n",
       "Name: count, dtype: int64"
      ]
     },
     "execution_count": 9,
     "metadata": {},
     "output_type": "execute_result"
    }
   ],
   "source": [
    "# Удаляем строки, где пробег больше 600000\n",
    "data = data[data['Пробег'] <= 600000]\n",
    "data['Пробег'].value_counts(bins=10)"
   ]
  },
  {
   "cell_type": "code",
   "execution_count": 13,
   "id": "667f6318",
   "metadata": {},
   "outputs": [
    {
     "data": {
      "text/plain": [
       "Объем\n",
       "2,0 л    989\n",
       "3,0 л    878\n",
       "2,5 л    243\n",
       "1,5 л    242\n",
       "4,4 л     96\n",
       "2,9 л     70\n",
       "1,6 л     55\n",
       "1,8 л     42\n",
       "2,8 л     26\n",
       "2,2 л     26\n",
       "1,9 л     21\n",
       "4,8 л     20\n",
       "Name: count, dtype: int64"
      ]
     },
     "execution_count": 13,
     "metadata": {},
     "output_type": "execute_result"
    }
   ],
   "source": [
    "# Удаляем автомобили, у которых объем двигателя встречается менее 10 раз\n",
    "volume_counts = data['Объем'].value_counts()\n",
    "volumes_to_keep = volume_counts[volume_counts >= 10].index\n",
    "data = data[data['Объем'].isin(volumes_to_keep)]\n",
    "data['Объем'].value_counts()"
   ]
  },
  {
   "cell_type": "code",
   "execution_count": 25,
   "id": "e2006974",
   "metadata": {},
   "outputs": [
    {
     "name": "stdout",
     "output_type": "stream",
     "text": [
      "<class 'pandas.core.series.Series'>\n",
      "Index: 2708 entries, 0 to 2791\n",
      "Series name: Объем\n",
      "Non-Null Count  Dtype  \n",
      "--------------  -----  \n",
      "2708 non-null   float64\n",
      "dtypes: float64(1)\n",
      "memory usage: 42.3 KB\n"
     ]
    }
   ],
   "source": [
    "# Преобразуем объем двигателя в число\n",
    "def parse_volume_to_float(volume_str):\n",
    "    # Удаляем неразрывные пробелы и берем только число (заменяем запятую на точку)\n",
    "    if isinstance(volume_str, str):\n",
    "        num = re.match(r\"([\\d,\\.]+)\", volume_str.replace('\\xa0', ''))\n",
    "        if num:\n",
    "            return float(num.group(1).replace(',', '.'))\n",
    "    return None\n",
    "\n",
    "data['Объем'] = data['Объем'].apply(parse_volume_to_float)\n",
    "data['Объем'].info()"
   ]
  },
  {
   "cell_type": "code",
   "execution_count": 27,
   "id": "2e7fe265",
   "metadata": {},
   "outputs": [
    {
     "data": {
      "image/png": "[encoded data removed]",
      "text/plain": [
       "<Figure size 1000x600 with 1 Axes>"
      ]
     },
     "metadata": {},
     "output_type": "display_data"
    }
   ],
   "source": [
    "# Группируем и сортируем по среднему значению цены, но индексы (объемы) сортируем по убыванию объема\n",
    "avg_price_by_volume = (\n",
    "    data.groupby(['Объем'])['Цена']\n",
    "    .mean()\n",
    "    .reset_index()\n",
    "    .sort_values('Объем', ascending=False)\n",
    "    .set_index('Объем')\n",
    ")['Цена']\n",
    "\n",
    "plt.figure(figsize=(10, 6))\n",
    "avg_price_by_volume.plot(kind='bar')\n",
    "plt.xlabel('Объем двигателя (л)')\n",
    "plt.ylabel('Средняя цена (Доллар США $)')\n",
    "plt.title('Средняя цена в зависимости от объема двигателя')\n",
    "plt.xticks(rotation=45)\n",
    "plt.tight_layout()\n",
    "plt.show()"
   ]
  },
  {
   "cell_type": "code",
   "execution_count": null,
   "id": "96677b75",
   "metadata": {},
   "outputs": [],
   "source": []
  }
 ],
 "metadata": {
  "kernelspec": {
   "display_name": ".bimmerai-venv",
   "language": "python",
   "name": "python3"
  },
  "language_info": {
   "codemirror_mode": {
    "name": "ipython",
    "version": 3
   },
   "file_extension": ".py",
   "mimetype": "text/x-python",
   "name": "python",
   "nbconvert_exporter": "python",
   "pygments_lexer": "ipython3",
   "version": "3.12.4"
  }
 },
 "nbformat": 4,
 "nbformat_minor": 5
}
